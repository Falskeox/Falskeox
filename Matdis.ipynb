{
  "nbformat": 4,
  "nbformat_minor": 0,
  "metadata": {
    "colab": {
      "provenance": [],
      "authorship_tag": "ABX9TyMZegQvTO+jOOg3ZhJgKGmB",
      "include_colab_link": true
    },
    "kernelspec": {
      "name": "python3",
      "display_name": "Python 3"
    },
    "language_info": {
      "name": "python"
    }
  },
  "cells": [
    {
      "cell_type": "markdown",
      "metadata": {
        "id": "view-in-github",
        "colab_type": "text"
      },
      "source": [
        "<a href=\"https://colab.research.google.com/github/Falskeox/Falskeox/blob/main/Matdis.ipynb\" target=\"_parent\"><img src=\"https://colab.research.google.com/assets/colab-badge.svg\" alt=\"Open In Colab\"/></a>"
      ]
    },
    {
      "cell_type": "code",
      "execution_count": 3,
      "metadata": {
        "id": "qM7IE1u1ZaMh"
      },
      "outputs": [],
      "source": [
        "import pandas as pd"
      ]
    },
    {
      "cell_type": "code",
      "source": [
        "import math"
      ],
      "metadata": {
        "id": "LLbyynaFZmCv"
      },
      "execution_count": 2,
      "outputs": []
    },
    {
      "cell_type": "code",
      "source": [
        "permutasi_88=math.factorial(88)"
      ],
      "metadata": {
        "id": "bePBFujGaJti"
      },
      "execution_count": 4,
      "outputs": []
    },
    {
      "cell_type": "code",
      "source": [
        "print(f\"{permutasi_88:,}\")"
      ],
      "metadata": {
        "colab": {
          "base_uri": "https://localhost:8080/"
        },
        "id": "Yp5Wz2NmbbMy",
        "outputId": "a5f2a022-2211-4125-bf1c-6a70e7b854c1"
      },
      "execution_count": 11,
      "outputs": [
        {
          "output_type": "stream",
          "name": "stdout",
          "text": [
            "185,482,642,257,398,439,114,796,845,645,546,284,380,220,968,949,399,346,684,421,580,986,889,562,184,028,199,319,100,141,244,804,501,828,416,633,516,851,200,000,000,000,000,000,000\n"
          ]
        }
      ]
    },
    {
      "cell_type": "code",
      "source": [
        "azka=math.factorial(21)"
      ],
      "metadata": {
        "id": "L56WrhovbhVz"
      },
      "execution_count": 12,
      "outputs": []
    },
    {
      "cell_type": "code",
      "source": [
        "print(f\"{azka:,}\")"
      ],
      "metadata": {
        "colab": {
          "base_uri": "https://localhost:8080/"
        },
        "id": "jqishT79cRlg",
        "outputId": "a7a1e675-cc34-481c-9d75-0efdd51bc0ba"
      },
      "execution_count": 13,
      "outputs": [
        {
          "output_type": "stream",
          "name": "stdout",
          "text": [
            "51,090,942,171,709,440,000\n"
          ]
        }
      ]
    },
    {
      "cell_type": "code",
      "source": [
        "dhea=math.factorial(8)"
      ],
      "metadata": {
        "id": "KxAok_0-cWFz"
      },
      "execution_count": 14,
      "outputs": []
    },
    {
      "cell_type": "code",
      "source": [
        "print(f\"{dhea:,}\")"
      ],
      "metadata": {
        "colab": {
          "base_uri": "https://localhost:8080/"
        },
        "id": "1Eg9L6Q1ccI-",
        "outputId": "669c1e29-08fc-4337-d9d3-9358d5d2a660"
      },
      "execution_count": 15,
      "outputs": [
        {
          "output_type": "stream",
          "name": "stdout",
          "text": [
            "40,320\n"
          ]
        }
      ]
    },
    {
      "cell_type": "code",
      "source": [],
      "metadata": {
        "id": "hZP7TiSjcfSo"
      },
      "execution_count": null,
      "outputs": []
    },
    {
      "cell_type": "markdown",
      "source": [
        "comb\n"
      ],
      "metadata": {
        "id": "1Gk5Ynd4cwfU"
      }
    },
    {
      "cell_type": "code",
      "source": [
        "def kommbinasi(n,r):\n",
        "  return math.factorial(n)//(math.factorial(r)*math.factorial(n-r))"
      ],
      "metadata": {
        "id": "40-dO0z_cx6_"
      },
      "execution_count": 16,
      "outputs": []
    },
    {
      "cell_type": "code",
      "source": [
        "baseng=kommbinasi(8,4)"
      ],
      "metadata": {
        "id": "3wIs7ndjdBf9"
      },
      "execution_count": 17,
      "outputs": []
    },
    {
      "cell_type": "code",
      "source": [
        "print(baseng)"
      ],
      "metadata": {
        "colab": {
          "base_uri": "https://localhost:8080/"
        },
        "id": "vUEyUUQSdQpt",
        "outputId": "e66ff27a-1b92-4fce-b871-9384c25cd04f"
      },
      "execution_count": 18,
      "outputs": [
        {
          "output_type": "stream",
          "name": "stdout",
          "text": [
            "70\n"
          ]
        }
      ]
    },
    {
      "cell_type": "code",
      "source": [],
      "metadata": {
        "id": "g3ZeKElNdYAx"
      },
      "execution_count": null,
      "outputs": []
    }
  ]
}