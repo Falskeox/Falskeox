{
  "nbformat": 4,
  "nbformat_minor": 0,
  "metadata": {
    "colab": {
      "provenance": [],
      "authorship_tag": "ABX9TyNvWs48GXi1ZZX1vcgvGobu",
      "include_colab_link": true
    },
    "kernelspec": {
      "name": "python3",
      "display_name": "Python 3"
    },
    "language_info": {
      "name": "python"
    }
  },
  "cells": [
    {
      "cell_type": "markdown",
      "metadata": {
        "id": "view-in-github",
        "colab_type": "text"
      },
      "source": [
        "<a href=\"https://colab.research.google.com/github/Falskeox/Falskeox/blob/main/Matdis.ipynb\" target=\"_parent\"><img src=\"https://colab.research.google.com/assets/colab-badge.svg\" alt=\"Open In Colab\"/></a>"
      ]
    },
    {
      "cell_type": "code",
      "execution_count": 1,
      "metadata": {
        "id": "qM7IE1u1ZaMh"
      },
      "outputs": [],
      "source": [
        "import pandas as pd"
      ]
    },
    {
      "cell_type": "code",
      "source": [
        "import math"
      ],
      "metadata": {
        "id": "LLbyynaFZmCv"
      },
      "execution_count": 2,
      "outputs": []
    },
    {
      "cell_type": "code",
      "source": [
        "permutasi_88=math.factorial(88)"
      ],
      "metadata": {
        "id": "bePBFujGaJti"
      },
      "execution_count": 3,
      "outputs": []
    },
    {
      "cell_type": "code",
      "source": [
        "print(f\"{permutasi_88:,}\")"
      ],
      "metadata": {
        "colab": {
          "base_uri": "https://localhost:8080/"
        },
        "id": "Yp5Wz2NmbbMy",
        "outputId": "d19f16c1-dba3-4e94-c5eb-97e1b5c53c1c"
      },
      "execution_count": 4,
      "outputs": [
        {
          "output_type": "stream",
          "name": "stdout",
          "text": [
            "185,482,642,257,398,439,114,796,845,645,546,284,380,220,968,949,399,346,684,421,580,986,889,562,184,028,199,319,100,141,244,804,501,828,416,633,516,851,200,000,000,000,000,000,000\n"
          ]
        }
      ]
    },
    {
      "cell_type": "code",
      "source": [
        "azka=math.factorial(21)"
      ],
      "metadata": {
        "id": "L56WrhovbhVz"
      },
      "execution_count": 5,
      "outputs": []
    },
    {
      "cell_type": "code",
      "source": [
        "print(f\"{azka:,}\")"
      ],
      "metadata": {
        "colab": {
          "base_uri": "https://localhost:8080/"
        },
        "id": "jqishT79cRlg",
        "outputId": "bc49fedc-e375-4bb3-b818-793fa3d17a1e"
      },
      "execution_count": 6,
      "outputs": [
        {
          "output_type": "stream",
          "name": "stdout",
          "text": [
            "51,090,942,171,709,440,000\n"
          ]
        }
      ]
    },
    {
      "cell_type": "code",
      "source": [
        "dhea=math.factorial(8)"
      ],
      "metadata": {
        "id": "KxAok_0-cWFz"
      },
      "execution_count": 7,
      "outputs": []
    },
    {
      "cell_type": "code",
      "source": [
        "print(f\"{dhea:,}\")"
      ],
      "metadata": {
        "colab": {
          "base_uri": "https://localhost:8080/"
        },
        "id": "1Eg9L6Q1ccI-",
        "outputId": "6ba70c3f-d2ef-41de-a932-23f5b607c291"
      },
      "execution_count": 8,
      "outputs": [
        {
          "output_type": "stream",
          "name": "stdout",
          "text": [
            "40,320\n"
          ]
        }
      ]
    },
    {
      "cell_type": "code",
      "source": [],
      "metadata": {
        "id": "hZP7TiSjcfSo"
      },
      "execution_count": 8,
      "outputs": []
    },
    {
      "cell_type": "markdown",
      "source": [
        "comb\n"
      ],
      "metadata": {
        "id": "1Gk5Ynd4cwfU"
      }
    },
    {
      "cell_type": "code",
      "source": [
        "def kommbinasi(n,r):\n",
        "  return math.factorial(n)//(math.factorial(r)*math.factorial(n-r))"
      ],
      "metadata": {
        "id": "40-dO0z_cx6_"
      },
      "execution_count": 9,
      "outputs": []
    },
    {
      "cell_type": "code",
      "source": [
        "baseng=kommbinasi(10,4)"
      ],
      "metadata": {
        "id": "3wIs7ndjdBf9"
      },
      "execution_count": 10,
      "outputs": []
    },
    {
      "cell_type": "code",
      "source": [
        "print(baseng)"
      ],
      "metadata": {
        "colab": {
          "base_uri": "https://localhost:8080/"
        },
        "id": "vUEyUUQSdQpt",
        "outputId": "cfa9986f-322f-4f6c-8821-e55534ce8c57"
      },
      "execution_count": 11,
      "outputs": [
        {
          "output_type": "stream",
          "name": "stdout",
          "text": [
            "210\n"
          ]
        }
      ]
    },
    {
      "cell_type": "code",
      "source": [
        "kuda=kommbinasi(12,3)"
      ],
      "metadata": {
        "id": "g3ZeKElNdYAx"
      },
      "execution_count": 12,
      "outputs": []
    },
    {
      "cell_type": "code",
      "source": [
        "print(kuda)"
      ],
      "metadata": {
        "colab": {
          "base_uri": "https://localhost:8080/"
        },
        "id": "x8J9BTHOftlx",
        "outputId": "94475a4f-26ab-4402-9590-0572dbda4195"
      },
      "execution_count": 13,
      "outputs": [
        {
          "output_type": "stream",
          "name": "stdout",
          "text": [
            "220\n"
          ]
        }
      ]
    },
    {
      "cell_type": "code",
      "source": [
        "ballot=kommbinasi(6,1)"
      ],
      "metadata": {
        "id": "ALGiGuPpfznQ"
      },
      "execution_count": 14,
      "outputs": []
    },
    {
      "cell_type": "code",
      "source": [
        "print(ballot)"
      ],
      "metadata": {
        "colab": {
          "base_uri": "https://localhost:8080/"
        },
        "id": "3T77wbj_gHw6",
        "outputId": "186873d0-3378-4c61-a54a-fc89f02fe13a"
      },
      "execution_count": 15,
      "outputs": [
        {
          "output_type": "stream",
          "name": "stdout",
          "text": [
            "6\n"
          ]
        }
      ]
    },
    {
      "cell_type": "code",
      "source": [
        "harhar=math.factorial(6)"
      ],
      "metadata": {
        "id": "2ZoxltN1gKAs"
      },
      "execution_count": 16,
      "outputs": []
    },
    {
      "cell_type": "code",
      "source": [
        "print(f\"{harhar:,}\")"
      ],
      "metadata": {
        "colab": {
          "base_uri": "https://localhost:8080/"
        },
        "id": "JcoIXlWRgV4o",
        "outputId": "7e487056-e33a-4d29-f2ae-ff9cc2f162fc"
      },
      "execution_count": 17,
      "outputs": [
        {
          "output_type": "stream",
          "name": "stdout",
          "text": [
            "720\n"
          ]
        }
      ]
    },
    {
      "cell_type": "code",
      "source": [
        "sebea=kommbinasi(12,4)"
      ],
      "metadata": {
        "id": "F2v7nDlcgYKJ"
      },
      "execution_count": 18,
      "outputs": []
    },
    {
      "cell_type": "code",
      "source": [
        "print(sebea)"
      ],
      "metadata": {
        "colab": {
          "base_uri": "https://localhost:8080/"
        },
        "id": "oIM1a_7Fg4Eg",
        "outputId": "e7e6952a-b08a-4596-9b7c-f6f57b1abbeb"
      },
      "execution_count": 19,
      "outputs": [
        {
          "output_type": "stream",
          "name": "stdout",
          "text": [
            "495\n"
          ]
        }
      ]
    },
    {
      "cell_type": "code",
      "source": [
        "sebec=math.factorial(4)"
      ],
      "metadata": {
        "id": "qBwYxmSsg6KI"
      },
      "execution_count": 20,
      "outputs": []
    },
    {
      "cell_type": "code",
      "source": [
        "  nol=kommbinasi(10,0)\n",
        "  sa=kommbinasi(10,1)\n",
        "  du=kommbinasi(10,2)\n",
        "  ti=kommbinasi(10,3)\n",
        "  em=kommbinasi(10,4)"
      ],
      "metadata": {
        "id": "0STnaArAheJo"
      },
      "execution_count": 21,
      "outputs": []
    },
    {
      "cell_type": "code",
      "source": [
        "hasc=nol+sa+du+ti+em\n",
        "print(hasc)"
      ],
      "metadata": {
        "colab": {
          "base_uri": "https://localhost:8080/"
        },
        "id": "xg4b3fZmimAV",
        "outputId": "df77df84-7b80-4594-f1b0-c7406cd330d9"
      },
      "execution_count": 22,
      "outputs": [
        {
          "output_type": "stream",
          "name": "stdout",
          "text": [
            "386\n"
          ]
        }
      ]
    },
    {
      "cell_type": "code",
      "source": [
        "pangse=2*2*2*2*2*2*2*2*2*2\n",
        "print(pangse)"
      ],
      "metadata": {
        "colab": {
          "base_uri": "https://localhost:8080/"
        },
        "id": "Nmp8cZfciq7m",
        "outputId": "fa88880a-bab1-4fb7-ded8-75a15bd07f6b"
      },
      "execution_count": 23,
      "outputs": [
        {
          "output_type": "stream",
          "name": "stdout",
          "text": [
            "1024\n"
          ]
        }
      ]
    },
    {
      "cell_type": "code",
      "source": [
        "jac=pangse-hasc\n",
        "print(jac)"
      ],
      "metadata": {
        "colab": {
          "base_uri": "https://localhost:8080/"
        },
        "id": "NSSyj2xmi3Sz",
        "outputId": "10c20163-fe86-4d54-ab57-68e8d735d2bb"
      },
      "execution_count": 24,
      "outputs": [
        {
          "output_type": "stream",
          "name": "stdout",
          "text": [
            "638\n"
          ]
        }
      ]
    },
    {
      "cell_type": "code",
      "source": [
        "def permutasi(n,r):\n",
        "  return math.factorial(n)//(math.factorial(n-r))"
      ],
      "metadata": {
        "id": "o0MCD9EZjg-9"
      },
      "execution_count": 25,
      "outputs": []
    },
    {
      "cell_type": "code",
      "source": [
        "nopa=permutasi(10,4)\n",
        "nopa"
      ],
      "metadata": {
        "colab": {
          "base_uri": "https://localhost:8080/"
        },
        "id": "z1VDsWZbDAzU",
        "outputId": "cf6004c6-2a9b-4570-c9df-c384edc0be28"
      },
      "execution_count": 27,
      "outputs": [
        {
          "output_type": "execute_result",
          "data": {
            "text/plain": [
              "5040"
            ]
          },
          "metadata": {},
          "execution_count": 27
        }
      ]
    },
    {
      "cell_type": "code",
      "source": [],
      "metadata": {
        "id": "4RobrApcDGVn"
      },
      "execution_count": null,
      "outputs": []
    }
  ]
}